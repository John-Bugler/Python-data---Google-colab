{
  "nbformat": 4,
  "nbformat_minor": 0,
  "metadata": {
    "colab": {
      "provenance": [],
      "authorship_tag": "ABX9TyNVslqIrAvWCrR+3ZDH6YFk",
      "include_colab_link": true
    },
    "kernelspec": {
      "name": "python3",
      "display_name": "Python 3"
    },
    "language_info": {
      "name": "python"
    }
  },
  "cells": [
    {
      "cell_type": "markdown",
      "metadata": {
        "id": "view-in-github",
        "colab_type": "text"
      },
      "source": [
        "<a href=\"https://colab.research.google.com/github/John-Bugler/Python-data---Google-colab/blob/main/stocks_data.ipynb\" target=\"_parent\"><img src=\"https://colab.research.google.com/assets/colab-badge.svg\" alt=\"Open In Colab\"/></a>"
      ]
    },
    {
      "cell_type": "code",
      "execution_count": null,
      "metadata": {
        "id": "oLcDY1D2VB_L"
      },
      "outputs": [],
      "source": [
        "# ciste samotne pandas a parsing tabulek z url\n",
        "# --------------------------------------------------------------------------------------------------------------------\n",
        "\n",
        "import pandas as pd\n",
        "portfolio_watch = pd.read_html(\"https://www.alphavantage.co/query?function=TIME_SERIES_DAILY&symbol=IBM&apikey=demo\")\n",
        "\n",
        "\n",
        "len(portfolio_watch)    # pocet tabulek na strance ulozeno jako list\n",
        "portfolio_watch[0]      # zobrazeni prvni tabulky z listu tabulek"
      ]
    },
    {
      "cell_type": "code",
      "source": [
        "# json data fily od Alpha vantage pres jejich knihovnu, PLACENO\n",
        "# --------------------------------------------------------------------------------------------------------------------\n",
        "import requests\n",
        "\n",
        "# replace the \"demo\" apikey below with your own key from https://www.alphavantage.co/support/#api-key\n",
        "# muj vygenerovany API KEY = 5YBUXBFFEB7Y524M (nefunkcni protoze placeno)\n",
        "url = 'https://www.alphavantage.co/query?function=TIME_SERIES_DAILY_ADJUSTED&symbol=Vale&apikey=demo'\n",
        "r = requests.get(url)\n",
        "data = r.json()\n",
        "\n",
        "print(data)"
      ],
      "metadata": {
        "id": "Cr11mypeZbxG"
      },
      "execution_count": null,
      "outputs": []
    },
    {
      "cell_type": "code",
      "source": [
        "# test knihovny yfinance\n",
        "import yfinance as yf\n",
        "\n",
        "stocks = yf.Tickers('msft aapl goog')\n",
        "\n",
        "# access each ticker using (example)\n",
        "stocks.tickers['MSFT'].info\n",
        "#stocks.tickers['MSFT'].actions\n",
        "stocks.tickers['MSFT'].history(period=\"1da\")   # period = da/mo/yr"
      ],
      "metadata": {
        "id": "ikJ0cJDGbwEa"
      },
      "execution_count": null,
      "outputs": []
    },
    {
      "cell_type": "code",
      "source": [
        "# test knihovny yfinance\n",
        "import yfinance as yf\n",
        "data = yf.download(\"AAPL\", period=\"1mo\")\n",
        "print(\"\\n\")\n",
        "data.info"
      ],
      "metadata": {
        "id": "9b40AFIJh9eZ"
      },
      "execution_count": null,
      "outputs": []
    },
    {
      "cell_type": "code",
      "source": [
        "# stahuje data podle listu tickeru a pak uklada do csv\n",
        "import yfinance as yf\n",
        "import pandas as pd\n",
        "\n",
        "tickerStrings = ['AAPL', 'MSFT', 'GOOG','META', 'NIO']\n",
        "df_list = list()\n",
        "for ticker in tickerStrings:\n",
        "    data = yf.download(ticker, group_by=\"Ticker\", period='1d')\n",
        "    data['ticker'] = ticker  # add this column because the dataframe doesn't contain a column with the ticker\n",
        "    df_list.append(data)\n",
        "\n",
        "# combine all dataframes into a single dataframe\n",
        "df = pd.concat(df_list)\n",
        "\n",
        "# save to csv\n",
        "import os\n",
        "from google.colab import drive\n",
        "drive.mount(\"/content/drive\", force_remount=True)       # pripojeni \"disku\"\n",
        "drive_path = \"/content/drive/My Drive/ColabNotebooks\"   # nastaveni aktualni cesty\n",
        "\n",
        "df.to_csv(drive_path+'/ticker.csv')\n",
        "print(drive_path+'/ticker.csv')\n",
        "os.listdir(drive_path)"
      ],
      "metadata": {
        "id": "pmwSlYxQr4V6",
        "colab": {
          "base_uri": "https://localhost:8080/"
        },
        "outputId": "0bf41b6a-c2d4-4aef-c657-0dc32dad3d48"
      },
      "execution_count": 1,
      "outputs": [
        {
          "output_type": "stream",
          "name": "stdout",
          "text": [
            "[*********************100%%**********************]  1 of 1 completed\n",
            "[*********************100%%**********************]  1 of 1 completed\n",
            "[*********************100%%**********************]  1 of 1 completed\n",
            "[*********************100%%**********************]  1 of 1 completed\n",
            "[*********************100%%**********************]  1 of 1 completed\n",
            "Mounted at /content/drive\n",
            "/content/drive/My Drive/ColabNotebooks/ticker.csv\n"
          ]
        },
        {
          "output_type": "execute_result",
          "data": {
            "text/plain": [
              "['test.py',\n",
              " 'test_tab.gsheet',\n",
              " 'testing.ipynb',\n",
              " 'stocks_data.ipynb',\n",
              " '.ipynb_checkpoints',\n",
              " 'ticker.csv',\n",
              " 'ticker.gsheet',\n",
              " 'ticker (1).gsheet',\n",
              " 'ticker (2).gsheet']"
            ]
          },
          "metadata": {},
          "execution_count": 1
        }
      ]
    }
  ]
}