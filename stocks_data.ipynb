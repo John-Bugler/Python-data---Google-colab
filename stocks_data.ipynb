{
  "nbformat": 4,
  "nbformat_minor": 0,
  "metadata": {
    "colab": {
      "provenance": [],
      "authorship_tag": "ABX9TyP/MQPLTYUjE2uREo1YJHa1",
      "include_colab_link": true
    },
    "kernelspec": {
      "name": "python3",
      "display_name": "Python 3"
    },
    "language_info": {
      "name": "python"
    }
  },
  "cells": [
    {
      "cell_type": "markdown",
      "metadata": {
        "id": "view-in-github",
        "colab_type": "text"
      },
      "source": [
        "<a href=\"https://colab.research.google.com/github/John-Bugler/Python-data---Google-colab/blob/main/stocks_data.ipynb\" target=\"_parent\"><img src=\"https://colab.research.google.com/assets/colab-badge.svg\" alt=\"Open In Colab\"/></a>"
      ]
    },
    {
      "cell_type": "code",
      "execution_count": null,
      "metadata": {
        "id": "oLcDY1D2VB_L"
      },
      "outputs": [],
      "source": [
        "# ciste samotne pandas a parsing tabulek z url\n",
        "# --------------------------------------------------------------------------------------------------------------------\n",
        "\n",
        "import pandas as pd\n",
        "portfolio_watch = pd.read_html(\"https://www.alphavantage.co/query?function=TIME_SERIES_DAILY&symbol=IBM&apikey=demo\")\n",
        "\n",
        "\n",
        "len(portfolio_watch)    # pocet tabulek na strance ulozeno jako list\n",
        "portfolio_watch[0]      # zobrazeni prvni tabulky z listu tabulek"
      ]
    },
    {
      "cell_type": "code",
      "source": [
        "# json data fily od Alpha vantage pres jejich knihovnu, PLACENO\n",
        "# --------------------------------------------------------------------------------------------------------------------\n",
        "import requests\n",
        "\n",
        "# replace the \"demo\" apikey below with your own key from https://www.alphavantage.co/support/#api-key\n",
        "# muj vygenerovany API KEY = 5YBUXBFFEB7Y524M (nefunkcni protoze placeno)\n",
        "url = 'https://www.alphavantage.co/query?function=TIME_SERIES_DAILY_ADJUSTED&symbol=Vale&apikey=demo'\n",
        "r = requests.get(url)\n",
        "data = r.json()\n",
        "\n",
        "print(data)"
      ],
      "metadata": {
        "id": "Cr11mypeZbxG"
      },
      "execution_count": null,
      "outputs": []
    },
    {
      "cell_type": "code",
      "source": [
        "# test knihovny yfinance\n",
        "import yfinance as yf\n",
        "\n",
        "stocks = yf.Tickers('msft aapl')\n",
        "\n",
        "# access each ticker using (example)\n",
        "# stocks.tickers['MSFT'].info\n",
        "#stocks.tickers['MSFT'].actions\n",
        "stocks.tickers['msft'].history(period=\"1da\")   # period = da/mo/yr"
      ],
      "metadata": {
        "id": "ikJ0cJDGbwEa"
      },
      "execution_count": null,
      "outputs": []
    },
    {
      "cell_type": "code",
      "source": [
        "# test knihovny yfinance\n",
        "import yfinance as yf\n",
        "data = yf.download(\"AAPL\", period=\"1mo\")\n",
        "print(\"\\n\")\n",
        "data.info"
      ],
      "metadata": {
        "id": "9b40AFIJh9eZ"
      },
      "execution_count": null,
      "outputs": []
    },
    {
      "cell_type": "code",
      "source": [
        "# stahuje data podle listu tickeru a pak uklada do csv\n",
        "import yfinance as yf\n",
        "import pandas as pd\n",
        "\n",
        "tickerStrings = ['AAPL', 'MSFT', 'GOOG','META', 'NIO']         # seznam tickeru ke kterym taham data\n",
        "df_list = list()  # vytvoreni prazdneho listu\n",
        "for ticker in tickerStrings:\n",
        "    data = yf.download(ticker, group_by=\"Ticker\", period='1d')\n",
        "    data['ticker'] = ticker  # add this column because the dataframe doesn't contain a column with the ticker\n",
        "    df_list.append(data)\n",
        "\n",
        "# combine all dataframes into a single dataframe\n",
        "df = pd.concat(df_list)\n",
        "print(df.columns) # obsah sloupcu = struktura dataframu\n",
        "print(df) # tisk dataframu\n",
        "\n",
        "\"\"\"\n",
        "# save to csv\n",
        "import os\n",
        "from google.colab import drive\n",
        "drive.mount(\"/content/drive\", force_remount=True)       # pripojeni \"disku\"\n",
        "drive_path = \"/content/drive/My Drive/ColabNotebooks\"   # nastaveni aktualni cesty\n",
        "\n",
        "df.to_csv(drive_path+'/ticker.csv')    # ulozeni dataframu \"df\" do csv souboru do stanovene cesty\n",
        "print(drive_path+'/ticker.csv')        # tisk cesty k souboru\n",
        "os.listdir(drive_path)                 # tisk obsahu adresare\n",
        "\"\"\""
      ],
      "metadata": {
        "id": "pmwSlYxQr4V6",
        "colab": {
          "base_uri": "https://localhost:8080/",
          "height": 417
        },
        "outputId": "3a9b4283-43f0-40ef-ce0a-78b496c19ed2"
      },
      "execution_count": 2,
      "outputs": [
        {
          "output_type": "stream",
          "name": "stdout",
          "text": [
            "[*********************100%%**********************]  1 of 1 completed\n",
            "[*********************100%%**********************]  1 of 1 completed\n",
            "[*********************100%%**********************]  1 of 1 completed\n",
            "[*********************100%%**********************]  1 of 1 completed\n",
            "[*********************100%%**********************]  1 of 1 completed\n",
            "Index(['Open', 'High', 'Low', 'Close', 'Adj Close', 'Volume', 'ticker'], dtype='object')\n",
            "                  Open        High         Low       Close   Adj Close  \\\n",
            "Date                                                                     \n",
            "2023-11-10  183.970001  186.570007  183.529999  186.399994  186.399994   \n",
            "2023-11-10  361.489990  370.100006  361.070007  369.670013  369.670013   \n",
            "2023-11-10  131.529999  134.270004  130.869995  134.059998  134.059998   \n",
            "2023-11-10  319.940002  329.100006  319.459991  328.769989  328.769989   \n",
            "2023-11-10    7.610000    7.640000    7.160000    7.240000    7.240000   \n",
            "\n",
            "              Volume ticker  \n",
            "Date                         \n",
            "2023-11-10  66133400   AAPL  \n",
            "2023-11-10  28042100   MSFT  \n",
            "2023-11-10  20872900   GOOG  \n",
            "2023-11-10  19096200   META  \n",
            "2023-11-10  39843100    NIO  \n"
          ]
        },
        {
          "output_type": "execute_result",
          "data": {
            "text/plain": [
              "'\\n# save to csv\\nimport os\\nfrom google.colab import drive\\ndrive.mount(\"/content/drive\", force_remount=True)       # pripojeni \"disku\"\\ndrive_path = \"/content/drive/My Drive/ColabNotebooks\"   # nastaveni aktualni cesty\\n\\ndf.to_csv(drive_path+\\'/ticker.csv\\')    # ulozeni dataframu \"df\" do csv souboru do stanovene cesty\\nprint(drive_path+\\'/ticker.csv\\')        # tisk cesty k souboru\\nos.listdir(drive_path)                 # tisk obsahu adresare\\n'"
            ],
            "application/vnd.google.colaboratory.intrinsic+json": {
              "type": "string"
            }
          },
          "metadata": {},
          "execution_count": 2
        }
      ]
    }
  ]
}